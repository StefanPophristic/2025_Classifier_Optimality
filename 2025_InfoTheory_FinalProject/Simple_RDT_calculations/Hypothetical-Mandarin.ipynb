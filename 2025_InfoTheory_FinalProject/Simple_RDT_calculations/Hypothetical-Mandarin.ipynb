{
 "cells": [
  {
   "cell_type": "markdown",
   "id": "137bb035-60ad-4525-ab11-4c1aacdc1f3b",
   "metadata": {},
   "source": [
    "Stefan Pophristic + Boxuan Li\n",
    "\n",
    "Hypothetical Mandarin\n",
    "\n",
    "$$F_{\\beta} = I_{q}(N; W) + \\beta E_{n,w}[d(N,N_{w})]$$\n",
    "\n",
    "Both the compression term and the reconstruction term are dependent on $q(w)$ and $q(w|n)$\n",
    "\n",
    "$$I_q(N; W) = \\sum_n p(n) \\sum_w q(w \\mid n) \\log \\frac{q(w \\mid n)}{q(w)}$$\n",
    "$E_{x,w}[d(x,x_w)]=\\sum_{w}​q(w∣N)d(x,x_{w}​)$\n",
    "\n",
    "\n",
    "To quantify $q(w)$ and $q(w|n)$ we will be using the Blahut-Arimoto Algorithm:\n",
    "- Instead of initialize a random distribution for q(w), we will define d(V, Vn) as the cosine distance matrix between N and W\n",
    "- Then using Gibb's equation, we will calculate q(w|n)\n",
    "- and then iterate until convergence\n",
    "\n",
    "\n",
    "$$q(w|n) = \\frac{q(w)e^{-\\beta d(V_{w}, V_{N})}}{\\sum_{w} q(w')e^{-\\beta d(V_{w}, V_{N})}}$$\n",
    "\n",
    "$$q(w) = \\sum_{N} \\hat{p}(n)q(w|n)$$\n"
   ]
  },
  {
   "cell_type": "markdown",
   "id": "b805f4eb-5432-48d0-a3aa-d47776139cab",
   "metadata": {},
   "source": [
    "# Import variables and packages"
   ]
  },
  {
   "cell_type": "code",
   "execution_count": 2,
   "id": "d602a09c-0830-45db-9edb-ed5d6308aedb",
   "metadata": {},
   "outputs": [
    {
     "name": "stderr",
     "output_type": "stream",
     "text": [
      "/var/folders/0f/7mr42p3n3mxc5z1g5q3267p81ryl0h/T/ipykernel_47933/570069863.py:2: DeprecationWarning: \n",
      "Pyarrow will become a required dependency of pandas in the next major release of pandas (pandas 3.0),\n",
      "(to allow more performant data types, such as the Arrow string type, and better interoperability with other libraries)\n",
      "but was not found to be installed on your system.\n",
      "If this would cause problems for you,\n",
      "please provide us feedback at https://github.com/pandas-dev/pandas/issues/54466\n",
      "        \n",
      "  import pandas as pd\n"
     ]
    }
   ],
   "source": [
    "import os\n",
    "import pandas as pd\n",
    "import requests\n",
    "import matplotlib.pyplot as plt\n",
    "import seaborn as sns\n",
    "import numpy as np\n",
    "import ast\n",
    "\n",
    "from sklearn.metrics.pairwise import cosine_distances\n",
    "from sklearn.preprocessing import normalize\n"
   ]
  },
  {
   "cell_type": "code",
   "execution_count": null,
   "id": "4f9e7eda-9977-4006-bee0-40a9c9aaa435",
   "metadata": {},
   "outputs": [],
   "source": []
  },
  {
   "cell_type": "code",
   "execution_count": 100,
   "id": "100d5be1-b314-4d93-8510-ea399158f237",
   "metadata": {},
   "outputs": [],
   "source": [
    "noun_semantics_df = pd.read_pickle(\"output/noun_semantics.pkl\")\n",
    "mw_semantics_df = pd.read_pickle(\"output/mw_semantics.pkl\")"
   ]
  },
  {
   "cell_type": "code",
   "execution_count": 101,
   "id": "bc2fe097-4bcc-40cc-ace9-e77f313d38bc",
   "metadata": {},
   "outputs": [
    {
     "name": "stdout",
     "output_type": "stream",
     "text": [
      "7 nouns rows dropped due to invalid or malformed vectors.\n"
     ]
    }
   ],
   "source": [
    "\n",
    "def filter_valid_vectors(df, column_name, expected_shape=(300,), label=\"\"):\n",
    "    original_len = len(df)\n",
    "    is_valid = df[column_name].apply(\n",
    "        lambda x: isinstance(x, (list, np.ndarray)) and np.array(x).shape == expected_shape\n",
    "    )\n",
    "    filtered_df = df[is_valid].reset_index(drop=True)\n",
    "    dropped = original_len - len(filtered_df)\n",
    "    if dropped > 0:\n",
    "        print(f\"{dropped} {label} rows dropped due to invalid or malformed vectors.\")\n",
    "    return filtered_df\n",
    "\n",
    "# Filter both DataFrames with proper reporting\n",
    "noun_semantics_df = filter_valid_vectors(noun_semantics_df, 'noun_semantics', label=\"nouns\")\n",
    "mw_semantics_df = filter_valid_vectors(mw_semantics_df, 'MW_centroid', label=\"MWs\")\n"
   ]
  },
  {
   "cell_type": "code",
   "execution_count": 103,
   "id": "fcefeceb-97b0-41a3-8c23-02e5e6283b85",
   "metadata": {},
   "outputs": [],
   "source": [
    "noun_semantics_df = noun_semantics_df.drop_duplicates(subset=[\"noun\"])\n",
    "mw_semantics_df = mw_semantics_df.drop_duplicates(subset=[\"MW\"])"
   ]
  },
  {
   "cell_type": "code",
   "execution_count": 104,
   "id": "b4394f6c-2013-4203-929e-bbf927ae0520",
   "metadata": {},
   "outputs": [
    {
     "data": {
      "text/html": [
       "<div>\n",
       "<style scoped>\n",
       "    .dataframe tbody tr th:only-of-type {\n",
       "        vertical-align: middle;\n",
       "    }\n",
       "\n",
       "    .dataframe tbody tr th {\n",
       "        vertical-align: top;\n",
       "    }\n",
       "\n",
       "    .dataframe thead th {\n",
       "        text-align: right;\n",
       "    }\n",
       "</style>\n",
       "<table border=\"1\" class=\"dataframe\">\n",
       "  <thead>\n",
       "    <tr style=\"text-align: right;\">\n",
       "      <th></th>\n",
       "      <th>noun</th>\n",
       "      <th>count</th>\n",
       "      <th>noun_semantics</th>\n",
       "    </tr>\n",
       "  </thead>\n",
       "  <tbody>\n",
       "    <tr>\n",
       "      <th>0</th>\n",
       "      <td>上午</td>\n",
       "      <td>1</td>\n",
       "      <td>[0.0198, -0.0406, 0.4887, -0.0755, -0.038, 0.1...</td>\n",
       "    </tr>\n",
       "    <tr>\n",
       "      <th>1</th>\n",
       "      <td>下半</td>\n",
       "      <td>1</td>\n",
       "      <td>[0.0306, 0.0379, 0.4806, 0.0162, 0.1408, -0.12...</td>\n",
       "    </tr>\n",
       "    <tr>\n",
       "      <th>2</th>\n",
       "      <td>下旬</td>\n",
       "      <td>3</td>\n",
       "      <td>[0.1047, -0.0735, 0.5682, 0.056, 0.0032, -0.05...</td>\n",
       "    </tr>\n",
       "    <tr>\n",
       "      <th>3</th>\n",
       "      <td>下颌</td>\n",
       "      <td>1</td>\n",
       "      <td>[0.3003, -0.3533, 0.2598, -0.1818, 0.2832, -0....</td>\n",
       "    </tr>\n",
       "    <tr>\n",
       "      <th>4</th>\n",
       "      <td>专辑</td>\n",
       "      <td>6</td>\n",
       "      <td>[-0.186, -0.0423, 0.4913, 0.1851, 0.0968, -0.0...</td>\n",
       "    </tr>\n",
       "  </tbody>\n",
       "</table>\n",
       "</div>"
      ],
      "text/plain": [
       "  noun  count                                     noun_semantics\n",
       "0   上午      1  [0.0198, -0.0406, 0.4887, -0.0755, -0.038, 0.1...\n",
       "1   下半      1  [0.0306, 0.0379, 0.4806, 0.0162, 0.1408, -0.12...\n",
       "2   下旬      3  [0.1047, -0.0735, 0.5682, 0.056, 0.0032, -0.05...\n",
       "3   下颌      1  [0.3003, -0.3533, 0.2598, -0.1818, 0.2832, -0....\n",
       "4   专辑      6  [-0.186, -0.0423, 0.4913, 0.1851, 0.0968, -0.0..."
      ]
     },
     "execution_count": 104,
     "metadata": {},
     "output_type": "execute_result"
    }
   ],
   "source": [
    "noun_semantics_df.head()"
   ]
  },
  {
   "cell_type": "code",
   "execution_count": 105,
   "id": "215ddb3a-e48c-4769-b962-0f2ffb1770df",
   "metadata": {},
   "outputs": [
    {
     "data": {
      "text/html": [
       "<div>\n",
       "<style scoped>\n",
       "    .dataframe tbody tr th:only-of-type {\n",
       "        vertical-align: middle;\n",
       "    }\n",
       "\n",
       "    .dataframe tbody tr th {\n",
       "        vertical-align: top;\n",
       "    }\n",
       "\n",
       "    .dataframe thead th {\n",
       "        text-align: right;\n",
       "    }\n",
       "</style>\n",
       "<table border=\"1\" class=\"dataframe\">\n",
       "  <thead>\n",
       "    <tr style=\"text-align: right;\">\n",
       "      <th></th>\n",
       "      <th>MW</th>\n",
       "      <th>Count_Pre</th>\n",
       "      <th>MW_centroid</th>\n",
       "      <th>mw_semantics</th>\n",
       "    </tr>\n",
       "  </thead>\n",
       "  <tbody>\n",
       "    <tr>\n",
       "      <th>0</th>\n",
       "      <td>日</td>\n",
       "      <td>1</td>\n",
       "      <td>[0.0308, -0.023712497, 0.4776, -0.028487498, -...</td>\n",
       "      <td>[0.1245, -0.0269, 0.4524, 0.1575, 0.01, -0.048...</td>\n",
       "    </tr>\n",
       "    <tr>\n",
       "      <th>1</th>\n",
       "      <td>局</td>\n",
       "      <td>1</td>\n",
       "      <td>[0.0306, 0.0379, 0.4806, 0.0162, 0.1408, -0.12...</td>\n",
       "      <td>[0.1245, -0.0269, 0.4524, 0.1575, 0.01, -0.048...</td>\n",
       "    </tr>\n",
       "    <tr>\n",
       "      <th>2</th>\n",
       "      <td>年</td>\n",
       "      <td>1</td>\n",
       "      <td>[0.016535418, 0.040139582, 0.51436454, -0.0627...</td>\n",
       "      <td>[0.1245, -0.0269, 0.4524, 0.1575, 0.01, -0.048...</td>\n",
       "    </tr>\n",
       "    <tr>\n",
       "      <th>3</th>\n",
       "      <td>月</td>\n",
       "      <td>2</td>\n",
       "      <td>[0.057184614, 0.03014615, 0.4474923, -0.003700...</td>\n",
       "      <td>[0.1245, -0.0269, 0.4524, 0.1575, 0.01, -0.048...</td>\n",
       "    </tr>\n",
       "    <tr>\n",
       "      <th>4</th>\n",
       "      <td>个</td>\n",
       "      <td>1</td>\n",
       "      <td>[-0.006889136, 0.022415332, 0.46960655, -0.039...</td>\n",
       "      <td>[0.1245, -0.0269, 0.4524, 0.1575, 0.01, -0.048...</td>\n",
       "    </tr>\n",
       "    <tr>\n",
       "      <th>...</th>\n",
       "      <td>...</td>\n",
       "      <td>...</td>\n",
       "      <td>...</td>\n",
       "      <td>...</td>\n",
       "    </tr>\n",
       "    <tr>\n",
       "      <th>612</th>\n",
       "      <td>台</td>\n",
       "      <td>1</td>\n",
       "      <td>[0.0030999994, -0.060374998, 0.513875, 0.00197...</td>\n",
       "      <td>[0.1245, -0.0269, 0.4524, 0.1575, 0.01, -0.048...</td>\n",
       "    </tr>\n",
       "    <tr>\n",
       "      <th>623</th>\n",
       "      <td>方</td>\n",
       "      <td>1</td>\n",
       "      <td>[0.0497, 0.2007, 0.641, -0.3201, 0.0088, -0.19...</td>\n",
       "      <td>[0.1245, -0.0269, 0.4524, 0.1575, 0.01, -0.048...</td>\n",
       "    </tr>\n",
       "    <tr>\n",
       "      <th>666</th>\n",
       "      <td>夸脱</td>\n",
       "      <td>2</td>\n",
       "      <td>[-0.1965, 0.0625, 0.3719, -0.1342, -0.0421, 0....</td>\n",
       "      <td>[0.1245, -0.0269, 0.4524, 0.1575, 0.01, -0.048...</td>\n",
       "    </tr>\n",
       "    <tr>\n",
       "      <th>677</th>\n",
       "      <td>连串</td>\n",
       "      <td>1</td>\n",
       "      <td>[-0.024, 0.0726, 0.517, 0.036, -0.1434, -0.034...</td>\n",
       "      <td>[0.1245, -0.0269, 0.4524, 0.1575, 0.01, -0.048...</td>\n",
       "    </tr>\n",
       "    <tr>\n",
       "      <th>707</th>\n",
       "      <td>通</td>\n",
       "      <td>1</td>\n",
       "      <td>[-0.1276, 0.0566, 0.4053, -0.1678, -0.2354, 0....</td>\n",
       "      <td>[0.1245, -0.0269, 0.4524, 0.1575, 0.01, -0.048...</td>\n",
       "    </tr>\n",
       "  </tbody>\n",
       "</table>\n",
       "<p>100 rows × 4 columns</p>\n",
       "</div>"
      ],
      "text/plain": [
       "     MW  Count_Pre                                        MW_centroid  \\\n",
       "0     日          1  [0.0308, -0.023712497, 0.4776, -0.028487498, -...   \n",
       "1     局          1  [0.0306, 0.0379, 0.4806, 0.0162, 0.1408, -0.12...   \n",
       "2     年          1  [0.016535418, 0.040139582, 0.51436454, -0.0627...   \n",
       "3     月          2  [0.057184614, 0.03014615, 0.4474923, -0.003700...   \n",
       "4     个          1  [-0.006889136, 0.022415332, 0.46960655, -0.039...   \n",
       "..   ..        ...                                                ...   \n",
       "612   台          1  [0.0030999994, -0.060374998, 0.513875, 0.00197...   \n",
       "623   方          1  [0.0497, 0.2007, 0.641, -0.3201, 0.0088, -0.19...   \n",
       "666  夸脱          2  [-0.1965, 0.0625, 0.3719, -0.1342, -0.0421, 0....   \n",
       "677  连串          1  [-0.024, 0.0726, 0.517, 0.036, -0.1434, -0.034...   \n",
       "707   通          1  [-0.1276, 0.0566, 0.4053, -0.1678, -0.2354, 0....   \n",
       "\n",
       "                                          mw_semantics  \n",
       "0    [0.1245, -0.0269, 0.4524, 0.1575, 0.01, -0.048...  \n",
       "1    [0.1245, -0.0269, 0.4524, 0.1575, 0.01, -0.048...  \n",
       "2    [0.1245, -0.0269, 0.4524, 0.1575, 0.01, -0.048...  \n",
       "3    [0.1245, -0.0269, 0.4524, 0.1575, 0.01, -0.048...  \n",
       "4    [0.1245, -0.0269, 0.4524, 0.1575, 0.01, -0.048...  \n",
       "..                                                 ...  \n",
       "612  [0.1245, -0.0269, 0.4524, 0.1575, 0.01, -0.048...  \n",
       "623  [0.1245, -0.0269, 0.4524, 0.1575, 0.01, -0.048...  \n",
       "666  [0.1245, -0.0269, 0.4524, 0.1575, 0.01, -0.048...  \n",
       "677  [0.1245, -0.0269, 0.4524, 0.1575, 0.01, -0.048...  \n",
       "707  [0.1245, -0.0269, 0.4524, 0.1575, 0.01, -0.048...  \n",
       "\n",
       "[100 rows x 4 columns]"
      ]
     },
     "execution_count": 105,
     "metadata": {},
     "output_type": "execute_result"
    }
   ],
   "source": [
    "mw_semantics_df.head(100)"
   ]
  },
  {
   "cell_type": "code",
   "execution_count": 107,
   "id": "d5cb597b-3966-468d-801a-6694962021b1",
   "metadata": {},
   "outputs": [
    {
     "name": "stdout",
     "output_type": "stream",
     "text": [
      "110\n",
      "840\n"
     ]
    }
   ],
   "source": [
    "print(mw_semantics_df.shape[0])\n",
    "print(noun_semantics_df.shape[0])"
   ]
  },
  {
   "cell_type": "code",
   "execution_count": null,
   "id": "1680d0a4-ef8b-4859-9aba-7971c53d7ea3",
   "metadata": {},
   "outputs": [],
   "source": []
  },
  {
   "cell_type": "markdown",
   "id": "ef85dc64-2d41-4fb2-92ac-94b856f0e45d",
   "metadata": {},
   "source": [
    "# Blahut-Arimoto Algorithm"
   ]
  },
  {
   "cell_type": "markdown",
   "id": "6335bd8c-97bf-4519-ad66-0231c362090c",
   "metadata": {},
   "source": [
    "## Initialize first w x n dataframe and q_n"
   ]
  },
  {
   "cell_type": "code",
   "execution_count": 140,
   "id": "cf3af49d-3821-4257-b412-bb58120e8fdb",
   "metadata": {},
   "outputs": [],
   "source": [
    "\n",
    "# Extract nouns and classifier names\n",
    "nouns = noun_semantics_df['noun'].values\n",
    "mws = mw_semantics_df['MW'].values\n",
    "\n",
    "# Stack vectors into matrices\n",
    "noun_vectors = np.vstack(noun_semantics_df['noun_semantics'].values)\n",
    "mw_vectors = np.vstack(mw_semantics_df['mw_semantics'].values)\n",
    "\n",
    "noun_vectors = normalize(noun_vectors, axis=1)\n",
    "mw_vectors = normalize(mw_vectors, axis=1)\n",
    "    \n",
    "# Compute cosine distance matrix (W x N)\n",
    "distance_matrix = cosine_distances(mw_vectors, noun_vectors)  # shape: (W, N)\n",
    "\n",
    "# Optional: Put in DataFrame for clarity\n",
    "distance_df = pd.DataFrame(distance_matrix, index=mws, columns=nouns)\n",
    "\n",
    "# Rescale distance matrix\n",
    "distance_matrix = (distance_matrix - distance_matrix.min()) / (distance_matrix.max() - distance_matrix.min())\n"
   ]
  },
  {
   "cell_type": "code",
   "execution_count": 141,
   "id": "8410b2d7-2ed1-409f-bfbe-9f38b49ab2cd",
   "metadata": {},
   "outputs": [],
   "source": [
    "# q_n = np.log1p(noun_semantics_df['count'])  # log(x+1) transformation\n",
    "# q_n /= np.sum(q_n)"
   ]
  },
  {
   "cell_type": "code",
   "execution_count": 142,
   "id": "c004e5ce-84bc-43e7-b226-682cdec70ded",
   "metadata": {},
   "outputs": [],
   "source": [
    "# q_n = noun_semantics_df['count'].values.astype(float)\n",
    "\n",
    "# # Currently our q_n is very small, and the noramlization results in 0 values, so let's scale it all up\n",
    "# epsilon = 1e-10  # very small value\n",
    "# q_n = np.clip(q_n, epsilon, 1.0)  # ensure q_n doesn't go to zero\n",
    "\n",
    "# q_n /= np.sum(q_n)  # Normalize so that the sum of q(n) is 1\n"
   ]
  },
  {
   "cell_type": "code",
   "execution_count": 143,
   "id": "f2d75eb6-d1d3-4a0a-bf40-71e5e2a983f7",
   "metadata": {},
   "outputs": [],
   "source": [
    "noun_semantics_df['count'] = noun_semantics_df['count'].replace(0, 1)\n",
    "q_n = np.log1p(noun_semantics_df['count'])  # log(x+1) transformation\n",
    "q_n /= np.sum(q_n)  # Normalize so that sum(q_n) = 1"
   ]
  },
  {
   "cell_type": "code",
   "execution_count": 144,
   "id": "3cab0e0d-2226-4e86-b3b6-d073a47cdede",
   "metadata": {},
   "outputs": [
    {
     "data": {
      "text/plain": [
       "False"
      ]
     },
     "execution_count": 144,
     "metadata": {},
     "output_type": "execute_result"
    }
   ],
   "source": [
    "np.any(q_n == 0)\n"
   ]
  },
  {
   "cell_type": "markdown",
   "id": "2a426288-a119-4b94-af22-0dc0c453fc0f",
   "metadata": {},
   "source": [
    "## Define BA functions"
   ]
  },
  {
   "cell_type": "markdown",
   "id": "567d3ff1-9d9a-424e-a3ab-8c1dec36c8a8",
   "metadata": {},
   "source": [
    "To calculate convergence: \n",
    "\n",
    "$$\\Delta = \\left\\| q^{(t)}(w \\mid n) - q^{(t-1)}(w \\mid n) \\right\\|$$\n",
    "\n",
    "Whereby we check the difference between this iterations q(w|n) value and the previous one. We want this Delta to be negligible change, i.e. more iterations of the BA algorithm won't really gain us anything\n",
    "\n",
    "We will use a strict tolerance of $\\Delta < 10^06$\n"
   ]
  },
  {
   "cell_type": "code",
   "execution_count": 145,
   "id": "6c694555-7f4d-4347-a0a7-6c550222cec4",
   "metadata": {},
   "outputs": [],
   "source": [
    "'''\n",
    "Checks whether q(w|n) value has converged, i.e. whether difference in values is less than 10^-6\n",
    "\n",
    "input: two matrices to compare\n",
    "\n",
    "output: true or false\n",
    "'''\n",
    "\n",
    "def check_convergence(q_w_n, prev_q_w_n): \n",
    "    if prev_q_w_n is None:\n",
    "        return False  # First iteration, no previous value to compare to\n",
    "     \n",
    "    delta = np.linalg.norm(q_w_n - prev_q_w_n)\n",
    "    \n",
    "    return delta < threshold"
   ]
  },
  {
   "cell_type": "code",
   "execution_count": 164,
   "id": "1f494197-a9f1-4bf8-9dfc-4f7a29de6b03",
   "metadata": {},
   "outputs": [],
   "source": [
    "'''\n",
    "beta = beta value\n",
    "q_w = q(w)\n",
    "q_n = q(n)\n",
    "iter_index = iteration index\n",
    "q_w_n = q(w|n). If not defined (i.e. first iteration) use the initialized value computed above\n",
    "\n",
    "output:\n",
    "- q_w values\n",
    "- q_w_n values\n",
    "- converge: true if converged, false if not\n",
    "'''\n",
    "\n",
    "def blahut_arimoto_iteration(beta, q_w = None, q_w_n = None, iter = 0):\n",
    "\n",
    "    if iter > iter_max:\n",
    "        print(\"Exceeded maximum iterations without reaching convergence\")\n",
    "        return(q_w, q_w_n, False)\n",
    "\n",
    "    #save current state of q_w_n to use for convergence check\n",
    "    prev_q_w_n = q_w_n\n",
    "\n",
    "    # if we are on the first iteration, save prev_q_w_n as none AND calculate first distance\n",
    "    if iter == 0:\n",
    "        prev_q_w_n = None\n",
    "\n",
    "    \n",
    "        ###\n",
    "        # Initialize first q_w_n\n",
    "        ###\n",
    "        \n",
    "        # Apply the exponentiation with the beta parameter\n",
    "        exp_distance_matrix = np.exp(-beta * distance_matrix)\n",
    "        \n",
    "        # Normalize by summing over each row (for each noun n)\n",
    "        q_w_n = exp_distance_matrix / exp_distance_matrix.sum(axis=0, keepdims=True)\n",
    "    \n",
    "    ###########\n",
    "    # Calculate q(w) marginal\n",
    "    ###########\n",
    "\n",
    "    # Step 2: Calculate q(w) (marginal over n)\n",
    "    q_w = np.sum(q_w_n, axis=1)\n",
    "    \n",
    "    # Normalize q(w) so that it sums to 1\n",
    "    q_w /= np.sum(q_w) # (q_w = q_w / np.sum(q_w)) \n",
    "    \n",
    "    # Check if q(w) sums to 1\n",
    "    # print(\"Sum of q(w):\", np.sum(q_w))  # This should print 1\n",
    "    # print(q_w.shape) # should print (1006,)\n",
    "\n",
    "    ###########\n",
    "    # Update q(w|n)\n",
    "    ###########\n",
    "\n",
    "    # Numerator: q(w)[:, None] * exp(-beta * d(w, n))\n",
    "    numerator = q_w[:, np.newaxis] * np.exp(-beta * distance_matrix)\n",
    "\n",
    "    # Denominator: sum over w for each n (i.e., column-wise)\n",
    "    denominator = np.sum(numerator, axis=0, keepdims=True)\n",
    "    # print(distance_matrix.shape)\n",
    "    \n",
    "\n",
    "    # Normalize to get q(w|n)\n",
    "    q_w_n = numerator / denominator\n",
    "    # assert np.allclose(np.sum(q_w_n, axis=0), 1.0)\n",
    "\n",
    "    \n",
    "    # print(np.sum(q_w_n, axis=0))  # should be close to an array of 1s\n",
    "\n",
    "    ###########\n",
    "    # Check Convergence\n",
    "    ###########\n",
    "\n",
    "    # if converged, end\n",
    "    if check_convergence(q_w_n, prev_q_w_n):\n",
    "        return(q_w, q_w_n, True)\n",
    "    # Otherwise, continue to next iteration\n",
    "    else:\n",
    "        iter+= 1\n",
    "        return blahut_arimoto_iteration(beta, q_w, q_w_n, iter) \n",
    "\n",
    "    \n"
   ]
  },
  {
   "cell_type": "markdown",
   "id": "00abc447-a36e-4443-b546-fe6afd4174e4",
   "metadata": {},
   "source": [
    "## Define RDT Function"
   ]
  },
  {
   "cell_type": "markdown",
   "id": "308f7693-bcfd-4b24-85a6-2fb69e564bc3",
   "metadata": {},
   "source": [
    "\n",
    "$$F_{\\beta} = I_{q}(N; W) + \\beta E_{n,w}[d(N,N_{w})]$$\n",
    "\n",
    "Both the compression term and the reconstruction term are dependent on $q(w)$ and $q(w|n)$\n",
    "\n",
    "$$I_q(N; W) = \\sum_n p(n) \\sum_w q(w \\mid n) \\log \\frac{q(w \\mid n)}{q(w)}$$\n",
    "$$E_{x,w}[d(x,x_w)]=\\sum_{w}​q(w∣N)d(x,x_{w}​)$$\n"
   ]
  },
  {
   "cell_type": "code",
   "execution_count": 165,
   "id": "4412b6b6-eb1d-46d7-9f57-eaeee3a1fe97",
   "metadata": {},
   "outputs": [],
   "source": [
    "# '''\n",
    "# take in a q(w), q(w|n), and beta\n",
    "\n",
    "# Calcualte the compression versus distortion trade off \n",
    "# '''\n",
    "\n",
    "# def calc_RDT(beta, q_w, q_w_n, q_n):\n",
    "\n",
    "#     ###########\n",
    "#     # Calculate Iq(w; n)\n",
    "#     ###########\n",
    "\n",
    "#     # print(\"Any zeros in q_w:\", np.any(q_w == 0))\n",
    "#     # print(\"Any zeros in q_n:\", np.any(q_n == 0))\n",
    "    \n",
    "#     # Step 1: Calculate the term inside the log function\n",
    "#     # q(w|n) / (q(w) * q(n)) for each combination of n and w\n",
    "#     # log_term = np.log(q_w_n / (q_w[:, np.newaxis] * np.array(q_n)[np.newaxis, :]))\n",
    "\n",
    "#     # print(f\"log_term Min: {np.min(log_term)}\")\n",
    "#     # print(f\"log_term Max: {np.max(log_term)}\")\n",
    "#     # print(f\"log_term Mean: {np.mean(log_term)}\")\n",
    "\n",
    "#     # # Step 2: Compute mutual information I_q(N; W)\n",
    "#     # complexity_term = np.sum(q_w_n * log_term)\n",
    "\n",
    "#     q_n = np.array(q_n)\n",
    "\n",
    "#     q_w_n = q_w_n.T      # shape (N, W) — now consistent\n",
    "    \n",
    "#     q_n_w = q_n[:, np.newaxis] * q_w_n  # shape (N, W)\n",
    "#     log_term = np.log(q_w_n / q_w[np.newaxis, :])  # shape (N, W)\n",
    "    \n",
    "#     complexity_term = np.sum(q_n_w * log_term)  # scalar\n",
    "\n",
    "#     # Print the result for I_q\n",
    "#     # print(\"Mutual Information I_q(N; W):\", complexity_term)\n",
    "\n",
    "#      ###########\n",
    "#     # Calculate E(distortion)\n",
    "#     ###########\n",
    "\n",
    "#     distortion_term = np.sum(q_w_n * distance_df.values)  # q(w|n) * d(n, w)\n",
    "    \n",
    "#     # Step 2: Calculate the expected value of the distortion term: E[n,w][d(n, w)] with q(n)\n",
    "#     expected_distortion_term = np.sum(q_w_n * distance_df.values * np.array(q_n)[np.newaxis, :])\n",
    "\n",
    "#     # Print the expected distortion term\n",
    "#     # print(\"Expected Distortion Term:\", expected_distortion_term)\n",
    "\n",
    "#     return(complexity_term, expected_distortion_term)"
   ]
  },
  {
   "cell_type": "code",
   "execution_count": 166,
   "id": "86d7123b-fbec-4569-900b-fb3222ea1c87",
   "metadata": {},
   "outputs": [],
   "source": [
    "def calc_RDT(beta, q_w, q_w_n, q_n):\n",
    "    q_n = np.array(q_n)  # shape: (N,)\n",
    "    eps = 1e-12\n",
    "\n",
    "    # Mutual information I(N;W)\n",
    "    log_term = np.log((q_w_n + eps) / (q_w[:, np.newaxis] + eps))  # shape: (W, N)\n",
    "    complexity_term = np.sum(q_w_n * log_term * q_n[np.newaxis, :])  # shape: scalar\n",
    "\n",
    "    # Expected distortion E[d(w,n)]\n",
    "    expected_distortion_term = np.sum(q_w_n * distance_matrix * q_n[np.newaxis, :])\n",
    "\n",
    "    # assert q_w_n.shape == distance_matrix.shape == (110, 840)\n",
    "    # assert q_n.shape == (840,)\n",
    "\n",
    "    return complexity_term, expected_distortion_term\n"
   ]
  },
  {
   "cell_type": "markdown",
   "id": "8d1336cc-085a-42c9-b076-03c8e6642ccd",
   "metadata": {},
   "source": [
    "## Run BA Algorithm"
   ]
  },
  {
   "cell_type": "code",
   "execution_count": 172,
   "id": "3a4b95ff-c02b-478b-9740-de9818218ec0",
   "metadata": {},
   "outputs": [
    {
     "name": "stdout",
     "output_type": "stream",
     "text": [
      "Enter Iteration #1\n",
      "Exceeded maximum iterations without reaching convergence\n",
      "Min q_w: 0.009090911\n",
      "Enter Iteration #2\n",
      "Min q_w: 0.009090908\n",
      "Enter Iteration #3\n",
      "Min q_w: 0.009090911\n",
      "Enter Iteration #4\n",
      "Min q_w: 0.009090908\n",
      "Enter Iteration #5\n",
      "Min q_w: 0.009090911\n",
      "Enter Iteration #6\n",
      "Min q_w: 0.009090911\n",
      "Enter Iteration #7\n",
      "Exceeded maximum iterations without reaching convergence\n",
      "Min q_w: 0.009090908\n",
      "Enter Iteration #8\n",
      "Min q_w: 0.009090908\n",
      "Enter Iteration #9\n",
      "Min q_w: 0.009090908\n",
      "Enter Iteration #10\n",
      "Min q_w: 0.009090908\n",
      "Enter Iteration #11\n",
      "Exceeded maximum iterations without reaching convergence\n",
      "Min q_w: 0.009090908\n",
      "Enter Iteration #12\n",
      "Min q_w: 0.009090908\n",
      "Enter Iteration #13\n",
      "Min q_w: 0.009090909\n",
      "Enter Iteration #14\n",
      "Min q_w: 0.00909091\n",
      "Enter Iteration #15\n",
      "Min q_w: 0.00909091\n",
      "Enter Iteration #16\n",
      "Min q_w: 0.009090908\n",
      "Enter Iteration #17\n",
      "Min q_w: 0.009090911\n",
      "Enter Iteration #18\n",
      "Min q_w: 0.009090909\n",
      "Enter Iteration #19\n",
      "Min q_w: 0.00909091\n"
     ]
    }
   ],
   "source": [
    "threshold = 1e-6\n",
    "iter_max = 2500\n",
    "\n",
    "beta_val = []\n",
    "complexity_val = []\n",
    "dist_val = []\n",
    "convergence = []\n",
    "\n",
    "betas = np.logspace(np.log10(1), np.log10(115), num=5)\n",
    "betas = range(1, 20)\n",
    "\n",
    "for beta in betas: \n",
    "\n",
    "    print(f\"Enter Iteration #{beta}\")\n",
    "    \n",
    "    BA_output = blahut_arimoto_iteration(beta)\n",
    "    \n",
    "    q_w = BA_output[0]\n",
    "    print(\"Min q_w:\", q_w.min())\n",
    "\n",
    "    q_w_n = BA_output[1]\n",
    "    converge = BA_output[2]\n",
    "\n",
    "    # print(q_w)\n",
    "    \n",
    "    RDT_output = calc_RDT(beta, q_w, q_w_n, q_n)\n",
    "    \n",
    "    complexity = RDT_output[0]\n",
    "    distortion = RDT_output[1]\n",
    "\n",
    "    beta_val.append(beta)\n",
    "    complexity_val.append(complexity)\n",
    "    dist_val.append(distortion)\n",
    "    convergence.append(converge)"
   ]
  },
  {
   "cell_type": "code",
   "execution_count": 173,
   "id": "3bdaf089-08bc-4bb2-97c9-2df59a0c7618",
   "metadata": {},
   "outputs": [
    {
     "name": "stdout",
     "output_type": "stream",
     "text": [
      "Distance matrix min/max: 0.0 1.0\n"
     ]
    }
   ],
   "source": [
    "print(\"Distance matrix min/max:\", distance_matrix.min(), distance_matrix.max())\n"
   ]
  },
  {
   "cell_type": "code",
   "execution_count": 174,
   "id": "ed79821b-d570-414c-9716-2e432e1edee5",
   "metadata": {},
   "outputs": [
    {
     "name": "stdout",
     "output_type": "stream",
     "text": [
      "q_w sum: 0.99999994\n",
      "min q_w: 0.00909091\n",
      "min/max distance: 0.0 1.0\n",
      "complexity value: -1.3241679862742994e-07\n",
      "distortion value: 0.6768645755572928\n"
     ]
    }
   ],
   "source": [
    "# print(\"q_w_n sums (columns):\", np.sum(q_w_n, axis=0))  # Should be all ~1\n",
    "print(\"q_w sum:\", np.sum(q_w))                         # Should be ~1\n",
    "print(\"min q_w:\", q_w.min())                           # Should be >0\n",
    "print(\"min/max distance:\", distance_matrix.min(), distance_matrix.max())\n",
    "print(\"complexity value:\", complexity)                 # Should be ≥ 0\n",
    "print(\"distortion value:\", distortion)                 # Should be > 0 and not tiny\n"
   ]
  },
  {
   "cell_type": "code",
   "execution_count": 175,
   "id": "b7cf2ced-22f0-4dc8-a2da-07d4510d76cf",
   "metadata": {},
   "outputs": [],
   "source": [
    "df = pd.DataFrame({\n",
    "    'beta': beta_val,\n",
    "    'complexity': complexity_val,\n",
    "    'distortion': dist_val,\n",
    "    'convergence': convergence\n",
    "})"
   ]
  },
  {
   "cell_type": "code",
   "execution_count": 176,
   "id": "0eabad8d-dc67-4401-83d9-2f63ed62f850",
   "metadata": {},
   "outputs": [
    {
     "data": {
      "text/plain": [
       "(110,)"
      ]
     },
     "execution_count": 176,
     "metadata": {},
     "output_type": "execute_result"
    }
   ],
   "source": [
    "q_w.shape"
   ]
  },
  {
   "cell_type": "code",
   "execution_count": 177,
   "id": "3cba02f7-4638-4af4-9b8c-9ad0673cfc0c",
   "metadata": {},
   "outputs": [
    {
     "data": {
      "text/html": [
       "<div>\n",
       "<style scoped>\n",
       "    .dataframe tbody tr th:only-of-type {\n",
       "        vertical-align: middle;\n",
       "    }\n",
       "\n",
       "    .dataframe tbody tr th {\n",
       "        vertical-align: top;\n",
       "    }\n",
       "\n",
       "    .dataframe thead th {\n",
       "        text-align: right;\n",
       "    }\n",
       "</style>\n",
       "<table border=\"1\" class=\"dataframe\">\n",
       "  <thead>\n",
       "    <tr style=\"text-align: right;\">\n",
       "      <th></th>\n",
       "      <th>beta</th>\n",
       "      <th>complexity</th>\n",
       "      <th>distortion</th>\n",
       "      <th>convergence</th>\n",
       "    </tr>\n",
       "  </thead>\n",
       "  <tbody>\n",
       "    <tr>\n",
       "      <th>0</th>\n",
       "      <td>1</td>\n",
       "      <td>-1.555970e-07</td>\n",
       "      <td>0.676865</td>\n",
       "      <td>False</td>\n",
       "    </tr>\n",
       "    <tr>\n",
       "      <th>1</th>\n",
       "      <td>2</td>\n",
       "      <td>1.306239e-07</td>\n",
       "      <td>0.676865</td>\n",
       "      <td>True</td>\n",
       "    </tr>\n",
       "    <tr>\n",
       "      <th>2</th>\n",
       "      <td>3</td>\n",
       "      <td>-1.833621e-07</td>\n",
       "      <td>0.676865</td>\n",
       "      <td>True</td>\n",
       "    </tr>\n",
       "    <tr>\n",
       "      <th>3</th>\n",
       "      <td>4</td>\n",
       "      <td>1.699259e-07</td>\n",
       "      <td>0.676865</td>\n",
       "      <td>True</td>\n",
       "    </tr>\n",
       "    <tr>\n",
       "      <th>4</th>\n",
       "      <td>5</td>\n",
       "      <td>-2.054550e-07</td>\n",
       "      <td>0.676865</td>\n",
       "      <td>True</td>\n",
       "    </tr>\n",
       "    <tr>\n",
       "      <th>5</th>\n",
       "      <td>6</td>\n",
       "      <td>-2.087205e-07</td>\n",
       "      <td>0.676865</td>\n",
       "      <td>True</td>\n",
       "    </tr>\n",
       "    <tr>\n",
       "      <th>6</th>\n",
       "      <td>7</td>\n",
       "      <td>1.238674e-07</td>\n",
       "      <td>0.676865</td>\n",
       "      <td>False</td>\n",
       "    </tr>\n",
       "    <tr>\n",
       "      <th>7</th>\n",
       "      <td>8</td>\n",
       "      <td>1.581998e-07</td>\n",
       "      <td>0.676865</td>\n",
       "      <td>True</td>\n",
       "    </tr>\n",
       "    <tr>\n",
       "      <th>8</th>\n",
       "      <td>9</td>\n",
       "      <td>1.652239e-07</td>\n",
       "      <td>0.676865</td>\n",
       "      <td>True</td>\n",
       "    </tr>\n",
       "    <tr>\n",
       "      <th>9</th>\n",
       "      <td>10</td>\n",
       "      <td>1.677529e-07</td>\n",
       "      <td>0.676865</td>\n",
       "      <td>True</td>\n",
       "    </tr>\n",
       "  </tbody>\n",
       "</table>\n",
       "</div>"
      ],
      "text/plain": [
       "   beta    complexity  distortion  convergence\n",
       "0     1 -1.555970e-07    0.676865        False\n",
       "1     2  1.306239e-07    0.676865         True\n",
       "2     3 -1.833621e-07    0.676865         True\n",
       "3     4  1.699259e-07    0.676865         True\n",
       "4     5 -2.054550e-07    0.676865         True\n",
       "5     6 -2.087205e-07    0.676865         True\n",
       "6     7  1.238674e-07    0.676865        False\n",
       "7     8  1.581998e-07    0.676865         True\n",
       "8     9  1.652239e-07    0.676865         True\n",
       "9    10  1.677529e-07    0.676865         True"
      ]
     },
     "execution_count": 177,
     "metadata": {},
     "output_type": "execute_result"
    }
   ],
   "source": [
    "df.head(10)"
   ]
  },
  {
   "cell_type": "code",
   "execution_count": 178,
   "id": "fa48d0dc-f887-4f51-b841-6f9e258e6038",
   "metadata": {},
   "outputs": [
    {
     "name": "stdout",
     "output_type": "stream",
     "text": [
      "    beta    complexity  distortion  convergence\n",
      "1      2  1.306239e-07    0.676865         True\n",
      "2      3 -1.833621e-07    0.676865         True\n",
      "3      4  1.699259e-07    0.676865         True\n",
      "4      5 -2.054550e-07    0.676865         True\n",
      "5      6 -2.087205e-07    0.676865         True\n",
      "7      8  1.581998e-07    0.676865         True\n",
      "8      9  1.652239e-07    0.676865         True\n",
      "9     10  1.677529e-07    0.676865         True\n",
      "11    12  1.692453e-07    0.676865         True\n",
      "12    13 -3.479111e-08    0.676865         True\n",
      "13    14 -1.233729e-07    0.676865         True\n",
      "14    15 -1.638985e-07    0.676865         True\n",
      "15    16  1.579374e-07    0.676865         True\n",
      "16    17 -2.371365e-07    0.676865         True\n",
      "17    18 -7.152488e-08    0.676865         True\n",
      "18    19 -1.324168e-07    0.676865         True\n"
     ]
    }
   ],
   "source": [
    "# Subset rows where convergence is True\n",
    "df_converged = df[df['convergence'] == True]\n",
    "\n",
    "# Display the resulting dataframe\n",
    "print(df_converged)"
   ]
  },
  {
   "cell_type": "code",
   "execution_count": 179,
   "id": "1f51519f-c9cc-4e11-8b82-b8595aee0c14",
   "metadata": {},
   "outputs": [
    {
     "data": {
      "image/png": "[encoded data removed]",
      "text/plain": [
       "<Figure size 800x600 with 1 Axes>"
      ]
     },
     "metadata": {},
     "output_type": "display_data"
    }
   ],
   "source": [
    "plt.figure(figsize=(8, 6))\n",
    "plt.scatter(df_converged['distortion'], df_converged['complexity'], marker='o')\n",
    "plt.xlabel('Distortion')\n",
    "plt.ylabel('Complexity (Mutual Information)')\n",
    "plt.title('Rate-Distortion Curve')\n",
    "plt.grid(True)\n",
    "plt.tight_layout()\n",
    "plt.show()"
   ]
  },
  {
   "cell_type": "markdown",
   "id": "f17f0555-9f26-40d8-922e-f5054203fd3d",
   "metadata": {},
   "source": [
    ". What Do q(n) and q(w) Represent in Your Model?\n",
    "q(n): Empirical distribution over nouns. This should reflect how likely each noun is to occur in your corpus.\n",
    "\n",
    "q(w): Marginal distribution over classifiers (MWs) implied by q(w|n) and q(n).\n",
    "\n",
    "If you only have 1–2 occurrences per noun, then:\n",
    "\n",
    "Your estimate of q(n) is extremely noisy (essentially uniform with small fluctuations).\n",
    "\n",
    "Downstream calculations (e.g., expected distortion, mutual information) depend on q(n) as a weight.\n",
    "\n",
    "Rare items contribute disproportionately when small sample sizes introduce noise, not signal.\n",
    "\n",
    "This means:\n",
    "\n",
    "The mutual information could be low or unstable because q(w|n) isn’t informative — either because it’s not learned well or because the true q(n) lacks contrast."
   ]
  },
  {
   "cell_type": "code",
   "execution_count": null,
   "id": "5925f319-d572-42cc-a1a9-8cd8dc6ab332",
   "metadata": {},
   "outputs": [],
   "source": []
  },
  {
   "cell_type": "code",
   "execution_count": null,
   "id": "84f1d14e-3904-417b-bd9e-20cd8419aa4a",
   "metadata": {},
   "outputs": [],
   "source": []
  },
  {
   "cell_type": "code",
   "execution_count": null,
   "id": "36066670-897a-4022-82ac-f3655b6d0891",
   "metadata": {},
   "outputs": [],
   "source": []
  },
  {
   "cell_type": "code",
   "execution_count": null,
   "id": "dc1e4dad-2c4d-4cb3-8abd-dc4e40bf5aac",
   "metadata": {},
   "outputs": [],
   "source": []
  },
  {
   "cell_type": "code",
   "execution_count": null,
   "id": "70a5c565-5f41-468a-8132-be1ed57ed9f9",
   "metadata": {},
   "outputs": [],
   "source": []
  },
  {
   "cell_type": "code",
   "execution_count": null,
   "id": "e8d78f7c-badc-40b8-8636-f906380f6a98",
   "metadata": {},
   "outputs": [],
   "source": []
  },
  {
   "cell_type": "code",
   "execution_count": null,
   "id": "1a42714b-9222-4af5-bffc-c90f1f1d5e1d",
   "metadata": {},
   "outputs": [],
   "source": []
  }
 ],
 "metadata": {
  "kernelspec": {
   "display_name": "Python 3 (ipykernel)",
   "language": "python",
   "name": "python3"
  },
  "language_info": {
   "codemirror_mode": {
    "name": "ipython",
    "version": 3
   },
   "file_extension": ".py",
   "mimetype": "text/x-python",
   "name": "python",
   "nbconvert_exporter": "python",
   "pygments_lexer": "ipython3",
   "version": "3.10.6"
  }
 },
 "nbformat": 4,
 "nbformat_minor": 5
}
