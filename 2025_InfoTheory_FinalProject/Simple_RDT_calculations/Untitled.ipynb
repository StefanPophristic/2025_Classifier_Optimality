{
 "cells": [
  {
   "cell_type": "code",
   "execution_count": null,
   "id": "0656dd43-3750-4dd6-a71e-4da460f0852f",
   "metadata": {},
   "outputs": [],
   "source": []
  }
 ],
 "metadata": {
  "kernelspec": {
   "display_name": "",
   "name": ""
  },
  "language_info": {
   "name": ""
  }
 },
 "nbformat": 4,
 "nbformat_minor": 5
}
